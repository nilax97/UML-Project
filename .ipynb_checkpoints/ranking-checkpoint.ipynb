{
 "cells": [
  {
   "cell_type": "code",
   "execution_count": null,
   "id": "0f98eba3",
   "metadata": {},
   "outputs": [],
   "source": [
    "import numpy as np\n",
    "from sknetwork.ranking import PageRank\n",
    "\n",
    "def sim(a, b):\n",
    "    return np.dot(a, b) / np.sqrt(np.dot(a, a) * np.dot(b, b))\n",
    "\n",
    "adj = np.zeros((len(lst), len(lst)))\n",
    "for i in range(len(lst)):\n",
    "    for j in range(i, len(lst)):\n",
    "        s = sim(lst[i], lst[j])\n",
    "        adj[i][j] = s\n",
    "        adj[j][i] = s\n",
    "\n",
    "pr = PageRank()\n",
    "pr.fit_transform(adj)"
   ]
  }
 ],
 "metadata": {
  "kernelspec": {
   "display_name": "Python 3 (ipykernel)",
   "language": "python",
   "name": "python3"
  },
  "language_info": {
   "codemirror_mode": {
    "name": "ipython",
    "version": 3
   },
   "file_extension": ".py",
   "mimetype": "text/x-python",
   "name": "python",
   "nbconvert_exporter": "python",
   "pygments_lexer": "ipython3",
   "version": "3.8.12"
  }
 },
 "nbformat": 4,
 "nbformat_minor": 5
}
