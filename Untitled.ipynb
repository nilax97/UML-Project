{
 "cells": [
  {
   "cell_type": "code",
   "execution_count": 1,
   "id": "4d531a8a",
   "metadata": {},
   "outputs": [],
   "source": [
    "import tensorflow_datasets as tfds\n",
    "import tensorflow as tf\n",
    "import os\n",
    "import struct\n",
    "import hashlib\n",
    "import os\n",
    "import re\n",
    "import json\n",
    "import string\n",
    "import numpy as np\n",
    "import tensorflow as tf\n",
    "from tensorflow import keras\n",
    "from tensorflow.keras import layers\n",
    "from tokenizers import BertWordPieceTokenizer\n",
    "from transformers import BertTokenizer, TFBertModel, BertConfig\n",
    "import tensorflow_hub as hub\n",
    "import tokenization\n",
    "from sklearn.manifold import TSNE\n",
    "from sentence_transformers import SentenceTransformer\n",
    "from rouge_score import rouge_scorer\n",
    "from sklearn.cluster import KMeans"
   ]
  },
  {
   "cell_type": "code",
   "execution_count": 2,
   "id": "53d6f39b",
   "metadata": {},
   "outputs": [],
   "source": [
    "def hashhex(s):\n",
    "    h = hashlib.sha1()\n",
    "    h.update(s)\n",
    "    return h.hexdigest()"
   ]
  },
  {
   "cell_type": "code",
   "execution_count": 3,
   "id": "0e1f9af7",
   "metadata": {},
   "outputs": [
    {
     "name": "stdout",
     "output_type": "stream",
     "text": [
      "287227\n",
      "13368\n",
      "11490\n"
     ]
    }
   ],
   "source": [
    "def get_url_hashes(url_list):\n",
    "    return [hashhex(url) for url in url_list]\n",
    "\n",
    "def read_text_file(text_file):\n",
    "    lines = []\n",
    "    with open(text_file, \"r\") as f:\n",
    "        for line in f:\n",
    "            lines.append(line.strip().encode('utf-8'))\n",
    "    return lines\n",
    "\n",
    "url_file_train = 'CNN-DM/all_train.txt'\n",
    "url_list_train = read_text_file(url_file_train)\n",
    "url_hashes_train = get_url_hashes(url_list_train)\n",
    "print(len(url_hashes_train))\n",
    "\n",
    "url_file_val = 'CNN-DM/all_val.txt'\n",
    "url_list_val = read_text_file(url_file_val)\n",
    "url_hashes_val = get_url_hashes(url_list_val)\n",
    "print(len(url_hashes_val))\n",
    "\n",
    "url_file_test = 'CNN-DM/all_test.txt'\n",
    "url_list_test = read_text_file(url_file_test)\n",
    "url_hashes_test = get_url_hashes(url_list_test)\n",
    "print(len(url_hashes_test))"
   ]
  },
  {
   "cell_type": "code",
   "execution_count": 36,
   "id": "2fbdb3a4",
   "metadata": {},
   "outputs": [
    {
     "name": "stdout",
     "output_type": "stream",
     "text": [
      "Editor's note: In our Behind the Scenes series, CNN correspondents share their experiences in covering news and analyze the stories behind the events. Here, Soledad O'Brien takes users inside a jail where many of the inmates are mentally ill.\n",
      "\n",
      "An inmate housed on the \"forgotten floor,\" where many mentally ill inmates are housed in Miami before trial.\n",
      "\n",
      "MIAMI, Florida (CNN) -- The ninth floor of the Miami-Dade pretrial detention facility is dubbed the \"forgotten floor.\" Here, inmates with the most severe mental illnesses are incarcerated until they're ready to appear in court.\n",
      "\n",
      "Most often, they face drug charges or charges of assaulting an officer --charges that Judge Steven Leifman says are usually \"avoidable felonies.\" He says the arrests often result from confrontations with police. Mentally ill people often won't do what they're told when police arrive on the scene -- confrontation seems to exacerbate their illness and they become more paranoid, delusional, and less likely to follow directions, according to Leifman.\n",
      "\n",
      "So, they end up on the ninth floor severely mentally disturbed, but not getting any real help because they're in jail.\n",
      "\n",
      "We toured the jail with Leifman. He is well known in Miami as an advocate for justice and the mentally ill. Even though we were not exactly welcomed with open arms by the guards, we were given permission to shoot videotape and tour the floor.  Go inside the 'forgotten floor' »\n",
      "\n",
      "At first, it's hard to determine where the people are. The prisoners are wearing sleeveless robes. Imagine cutting holes for arms and feet in a heavy wool sleeping bag -- that's kind of what they look like. They're designed to keep the mentally ill patients from injuring themselves. That's also why they have no shoes, laces or mattresses.\n",
      "\n",
      "Leifman says about one-third of all people in Miami-Dade county jails are mentally ill. So, he says, the sheer volume is overwhelming the system, and the result is what we see on the ninth floor.\n",
      "\n",
      "Of course, it is a jail, so it's not supposed to be warm and comforting, but the lights glare, the cells are tiny and it's loud. We see two, sometimes three men -- sometimes in the robes, sometimes naked, lying or sitting in their cells.\n",
      "\n",
      "\"I am the son of the president. You need to get me out of here!\" one man shouts at me.\n",
      "\n",
      "He is absolutely serious, convinced that help is on the way -- if only he could reach the White House.\n",
      "\n",
      "Leifman tells me that these prisoner-patients will often circulate through the system, occasionally stabilizing in a mental hospital, only to return to jail to face their charges. It's brutally unjust, in his mind, and he has become a strong advocate for changing things in Miami.\n",
      "\n",
      "Over a meal later, we talk about how things got this way for mental patients.\n",
      "\n",
      "Leifman says 200 years ago people were considered \"lunatics\" and they were locked up in jails even if they had no charges against them. They were just considered unfit to be in society.\n",
      "\n",
      "Over the years, he says, there was some public outcry, and the mentally ill were moved out of jails and into hospitals. But Leifman says many of these mental hospitals were so horrible they were shut down.\n",
      "\n",
      "Where did the patients go? Nowhere. The streets. They became, in many cases, the homeless, he says. They never got treatment.\n",
      "\n",
      "Leifman says in 1955 there were more than half a million people in state mental hospitals, and today that number has been reduced 90 percent, and 40,000 to 50,000 people are in mental hospitals.\n",
      "\n",
      "The judge says he's working to change this. Starting in 2008, many inmates who would otherwise have been brought to the \"forgotten floor\"  will instead be sent to a new mental health facility -- the first step on a journey toward long-term treatment, not just punishment.\n",
      "\n",
      "Leifman says it's not the complete answer, but it's a start. Leifman says the best part is that it's a win-win solution. The patients win, the families are relieved, and the state saves money by simply not cycling these prisoners through again and again.\n",
      "\n",
      "And, for Leifman, justice is served. E-mail to a friend\n",
      "\n",
      "@highlight\n",
      "\n",
      "Mentally ill inmates in Miami are housed on the \"forgotten floor\"\n",
      "\n",
      "@highlight\n",
      "\n",
      "Judge Steven Leifman says most are there as a result of \"avoidable felonies\"\n",
      "\n",
      "@highlight\n",
      "\n",
      "While CNN tours facility, patient shouts: \"I am the son of the president\"\n",
      "\n",
      "@highlight\n",
      "\n",
      "Leifman says the system is unjust and he's fighting for change"
     ]
    }
   ],
   "source": [
    "x = url_hashes_train[0]\n",
    "l = open(os.path.join(\"CNN-DM\",\"raw\",\"cnn\",\"stories\",x+\".story\")).readlines()\n",
    "\n",
    "for line in l:\n",
    "    print(line,end='')"
   ]
  },
  {
   "cell_type": "code",
   "execution_count": 5,
   "id": "b415b8a2",
   "metadata": {},
   "outputs": [
    {
     "name": "stdout",
     "output_type": "stream",
     "text": [
      "[\"Editor's note: In our Behind the Scenes series, CNN correspondents share their experiences in covering news and analyze the stories behind the events. Here, Soledad O'Brien takes users inside a jail where many of the inmates are mentally ill.\", 'An inmate housed on the \"forgotten floor,\" where many mentally ill inmates are housed in Miami before trial.', 'MIAMI, Florida (CNN) -- The ninth floor of the Miami-Dade pretrial detention facility is dubbed the \"forgotten floor.\" Here, inmates with the most severe mental illnesses are incarcerated until they\\'re ready to appear in court.', 'Most often, they face drug charges or charges of assaulting an officer --charges that Judge Steven Leifman says are usually \"avoidable felonies.\" He says the arrests often result from confrontations with police. Mentally ill people often won\\'t do what they\\'re told when police arrive on the scene -- confrontation seems to exacerbate their illness and they become more paranoid, delusional, and less likely to follow directions, according to Leifman.', \"So, they end up on the ninth floor severely mentally disturbed, but not getting any real help because they're in jail.\", \"We toured the jail with Leifman. He is well known in Miami as an advocate for justice and the mentally ill. Even though we were not exactly welcomed with open arms by the guards, we were given permission to shoot videotape and tour the floor.  Go inside the 'forgotten floor' »\", \"At first, it's hard to determine where the people are. The prisoners are wearing sleeveless robes. Imagine cutting holes for arms and feet in a heavy wool sleeping bag -- that's kind of what they look like. They're designed to keep the mentally ill patients from injuring themselves. That's also why they have no shoes, laces or mattresses.\", 'Leifman says about one-third of all people in Miami-Dade county jails are mentally ill. So, he says, the sheer volume is overwhelming the system, and the result is what we see on the ninth floor.', \"Of course, it is a jail, so it's not supposed to be warm and comforting, but the lights glare, the cells are tiny and it's loud. We see two, sometimes three men -- sometimes in the robes, sometimes naked, lying or sitting in their cells.\", '\"I am the son of the president. You need to get me out of here!\" one man shouts at me.', 'He is absolutely serious, convinced that help is on the way -- if only he could reach the White House.', \"Leifman tells me that these prisoner-patients will often circulate through the system, occasionally stabilizing in a mental hospital, only to return to jail to face their charges. It's brutally unjust, in his mind, and he has become a strong advocate for changing things in Miami.\", 'Over a meal later, we talk about how things got this way for mental patients.', 'Leifman says 200 years ago people were considered \"lunatics\" and they were locked up in jails even if they had no charges against them. They were just considered unfit to be in society.', 'Over the years, he says, there was some public outcry, and the mentally ill were moved out of jails and into hospitals. But Leifman says many of these mental hospitals were so horrible they were shut down.', 'Where did the patients go? Nowhere. The streets. They became, in many cases, the homeless, he says. They never got treatment.', 'Leifman says in 1955 there were more than half a million people in state mental hospitals, and today that number has been reduced 90 percent, and 40,000 to 50,000 people are in mental hospitals.', 'The judge says he\\'s working to change this. Starting in 2008, many inmates who would otherwise have been brought to the \"forgotten floor\"  will instead be sent to a new mental health facility -- the first step on a journey toward long-term treatment, not just punishment.', \"Leifman says it's not the complete answer, but it's a start. Leifman says the best part is that it's a win-win solution. The patients win, the families are relieved, and the state saves money by simply not cycling these prisoners through again and again.\", 'And, for Leifman, justice is served. E-mail to a friend']\n",
      "['Mentally ill inmates in Miami are housed on the \"forgotten floor\"', 'Judge Steven Leifman says most are there as a result of \"avoidable felonies\"', 'While CNN tours facility, patient shouts: \"I am the son of the president\"', \"Leifman says the system is unjust and he's fighting for change\"]\n"
     ]
    }
   ],
   "source": [
    "def clean(x):\n",
    "    text = []\n",
    "    summary = []\n",
    "    flag = 0\n",
    "    for line in x:\n",
    "        if line == '\\n':\n",
    "            continue\n",
    "        if '@highlight' in line:\n",
    "            flag = 1\n",
    "            continue\n",
    "        if flag == 0:\n",
    "            text.append(line.strip())\n",
    "        else:\n",
    "            summary.append(line.strip())\n",
    "    return text,summary\n",
    "print(clean(l)[0])\n",
    "print(clean(l)[1])"
   ]
  },
  {
   "cell_type": "code",
   "execution_count": 6,
   "id": "e86d4702",
   "metadata": {},
   "outputs": [],
   "source": [
    "model = SentenceTransformer('all-MiniLM-L6-v2')"
   ]
  },
  {
   "cell_type": "code",
   "execution_count": 7,
   "id": "0ca2f5f3",
   "metadata": {},
   "outputs": [],
   "source": [
    "text,summary = clean(l)\n",
    "text_embeddings = model.encode(text)\n",
    "summary_embeddings = model.encode(summary)"
   ]
  },
  {
   "cell_type": "code",
   "execution_count": 47,
   "id": "0d7b4dca",
   "metadata": {},
   "outputs": [],
   "source": [
    "def k_centers_prob(V, n):\n",
    "    n1 = n\n",
    "    centers = []\n",
    "    cities = list(range(len(V)))\n",
    "    centers.append(0)\n",
    "    cities.remove(0)\n",
    "    while n!= 0:\n",
    "        city_dict = {}\n",
    "        for cty in cities:\n",
    "            min_dist = float(\"inf\")\n",
    "            for c in centers:\n",
    "                min_dist = min(min_dist,np.linalg.norm(V[cty] - V[c]))\n",
    "            city_dict[cty] = min_dist\n",
    "        new_center = max(city_dict, key = lambda i: city_dict[i])\n",
    "        centers.append(new_center)\n",
    "        cities.remove(new_center)\n",
    "        if n == n1:\n",
    "            centers.remove(0)\n",
    "            cities.append(0)\n",
    "        n = n-1\n",
    "    return centers"
   ]
  },
  {
   "cell_type": "code",
   "execution_count": 48,
   "id": "ec729e22",
   "metadata": {},
   "outputs": [],
   "source": [
    "# kmeans = KMeans(n_clusters=len(summary_embeddings)).fit(text_embeddings)"
   ]
  },
  {
   "cell_type": "code",
   "execution_count": 49,
   "id": "0b40ee8e",
   "metadata": {},
   "outputs": [],
   "source": [
    "# kmeans.labels_\n",
    "# min_dist = [float('inf')] * len(summary_embeddings)\n",
    "# min_node = [-1] * len(summary_embeddings)\n",
    "\n",
    "# for i in range(len(text_embeddings)):\n",
    "#     cls = kmeans.labels_[i]\n",
    "#     dist = np.linalg.norm(text_embeddings[i] - kmeans.cluster_centers_[cls])\n",
    "#     if dist < min_dist[cls]:\n",
    "#         min_node[cls] = i\n",
    "#         min_dist[cls] = dist"
   ]
  },
  {
   "cell_type": "code",
   "execution_count": 50,
   "id": "a19cb9dd",
   "metadata": {},
   "outputs": [],
   "source": [
    "# gen_summary = [text[x] for x in min_node]\n",
    "# scorer = rouge_scorer.RougeScorer(['rouge1', 'rouge2','rougeL'], use_stemmer=True)\n",
    "# scores2 = scorer.score(\" \".join(summary),\" \".join(gen_summary))"
   ]
  },
  {
   "cell_type": "code",
   "execution_count": 51,
   "id": "e82fe8f0",
   "metadata": {},
   "outputs": [],
   "source": [
    "gen_sum = k_centers_prob(text_embeddings,len(summary_embeddings))"
   ]
  },
  {
   "cell_type": "code",
   "execution_count": 52,
   "id": "d2663182",
   "metadata": {},
   "outputs": [],
   "source": [
    "gen_summary = [text[x] for x in gen_sum]"
   ]
  },
  {
   "cell_type": "code",
   "execution_count": 53,
   "id": "f9a70842",
   "metadata": {},
   "outputs": [
    {
     "data": {
      "text/plain": [
       "['But when TWC pulled it out of awards contention and shifted its release to March 14, 2014, Dahan lashed out at TWC\\'s Harvey Weinstein, over the movie\\'s final cut, which the director was in the process of completing. \"There are two versions of the film for now, mine and his,\" Dahan complained, continuing, \"They want a commercial film smelling of daisies, taking out anything that exceeds that which is too abrupt, anything that makes it cinematic and breathe with life.\"',\n",
       " 'Tim Roth costars as Kelly\\'s husband Prince Rainier III, Frank Langella as Kelly\\'s priest and confidante, Parker Posey as Grace\\'s aid, and Paz Vega (\"Spanglish,\" \"Sex and Lucia\") as opera singer Maria Callas.',\n",
       " \"THR: The Weinstein Co. nearing deal to keep 'Grace of Monaco'\"]"
      ]
     },
     "execution_count": 53,
     "metadata": {},
     "output_type": "execute_result"
    }
   ],
   "source": [
    "gen_summary"
   ]
  },
  {
   "cell_type": "code",
   "execution_count": 54,
   "id": "26a2b171",
   "metadata": {},
   "outputs": [
    {
     "data": {
      "text/plain": [
       "['The film will premiere on Memorial Day',\n",
       " \"It opened last year's Cannes Film Festival\",\n",
       " 'A planned March theater release was scrubbed']"
      ]
     },
     "execution_count": 54,
     "metadata": {},
     "output_type": "execute_result"
    }
   ],
   "source": [
    "summary"
   ]
  },
  {
   "cell_type": "code",
   "execution_count": 55,
   "id": "b4b9eb83",
   "metadata": {},
   "outputs": [],
   "source": [
    "scorer = rouge_scorer.RougeScorer(['rouge1', 'rouge2','rougeL'], use_stemmer=True)\n",
    "scores = scorer.score(\" \".join(summary),\" \".join(gen_summary))"
   ]
  },
  {
   "cell_type": "code",
   "execution_count": 56,
   "id": "9e858cbc",
   "metadata": {},
   "outputs": [
    {
     "data": {
      "text/plain": [
       "{'rouge1': Score(precision=0.06976744186046512, recall=0.4090909090909091, fmeasure=0.11920529801324503),\n",
       " 'rouge2': Score(precision=0.0078125, recall=0.047619047619047616, fmeasure=0.013422818791946308),\n",
       " 'rougeL': Score(precision=0.031007751937984496, recall=0.18181818181818182, fmeasure=0.052980132450331126)}"
      ]
     },
     "execution_count": 56,
     "metadata": {},
     "output_type": "execute_result"
    }
   ],
   "source": [
    "scores"
   ]
  },
  {
   "cell_type": "code",
   "execution_count": null,
   "id": "d70423ed",
   "metadata": {},
   "outputs": [],
   "source": []
  },
  {
   "cell_type": "code",
   "execution_count": null,
   "id": "76ecf49d",
   "metadata": {},
   "outputs": [],
   "source": []
  },
  {
   "cell_type": "code",
   "execution_count": null,
   "id": "7863de08",
   "metadata": {},
   "outputs": [],
   "source": []
  },
  {
   "cell_type": "code",
   "execution_count": 57,
   "id": "ba1ee7be",
   "metadata": {},
   "outputs": [
    {
     "name": "stdout",
     "output_type": "stream",
     "text": [
      "['Because of troubles, Lindsay Lohan likely difficult to insure', 'Lohan supposed to appear in Shirley MacLaine film \"Poor Things\"', \"Insurance rates may cost 1 to 3 percent of film's production budget\"]\n",
      "___\n",
      "['Copyright 2007 Reuters. All rights reserved.This material may not be published, broadcast, rewritten, or redistributed.', \"Insurance rates for errant actors can range anywhere from 1 percent to 3 percent of a movie's production budget, which can range from $5 million to $100 million or more, he said.\", 'A statement was expected early next week on whether the movie, already delayed this spring due to an earlier rehab stint by Lohan, will proceed with or without her.']\n"
     ]
    },
    {
     "data": {
      "text/plain": [
       "{'rouge1': Score(precision=0.1794871794871795, recall=0.4375, fmeasure=0.2545454545454545),\n",
       " 'rouge2': Score(precision=0.07792207792207792, recall=0.1935483870967742, fmeasure=0.11111111111111112),\n",
       " 'rougeL': Score(precision=0.1282051282051282, recall=0.3125, fmeasure=0.1818181818181818)}"
      ]
     },
     "execution_count": 57,
     "metadata": {},
     "output_type": "execute_result"
    }
   ],
   "source": [
    "x = url_hashes_train[20]\n",
    "l = open(os.path.join(\"CNN-DM\",\"raw\",\"cnn\",\"stories\",x+\".story\")).readlines()\n",
    "text,summary = clean(l)\n",
    "text_embeddings = model.encode(text)\n",
    "summary_embeddings = model.encode(summary)\n",
    "gen_sum = k_centers_prob(text_embeddings,len(summary_embeddings))\n",
    "gen_summary = [text[x] for x in gen_sum]\n",
    "print(summary)\n",
    "print(\"___\")\n",
    "print(gen_summary)\n",
    "scores = scorer.score(\" \".join(summary),\" \".join(gen_summary))\n",
    "scores"
   ]
  },
  {
   "cell_type": "code",
   "execution_count": null,
   "id": "a1d1f3a6",
   "metadata": {},
   "outputs": [],
   "source": []
  },
  {
   "cell_type": "code",
   "execution_count": 58,
   "id": "30891fdc",
   "metadata": {},
   "outputs": [
    {
     "name": "stdout",
     "output_type": "stream",
     "text": [
      "['NEW: Chadian president wants journalists, flight crew released', 'Red Cross, UNICEF, UNHCR interview children that charity tried to fly out of Chad', 'Most are not from Sudan and have families, agencies say', \"Six members of Zoe's Ark, 11 others under arrest in Chad\"]\n",
      "___\n",
      "['Over the weekend, the captain appealed urgently to be rescued, fearing the crew could be harmed or killed, Cajal said.', \"The agencies said most of the children also probably come from Chadian villages along Chad's border with Sudan.\", \"The organization said photographers Marc Garmirian of the Capa news agency and Jean-Daniel Guillou of the Synchro X agency were on assignment for their news organizations and were not part of the charity's efforts.\", 'The transfer will take place Monday, according to media reports.']\n"
     ]
    },
    {
     "data": {
      "text/plain": [
       "{'rouge1': Score(precision=0.17647058823529413, recall=0.3409090909090909, fmeasure=0.23255813953488372),\n",
       " 'rouge2': Score(precision=0.0, recall=0.0, fmeasure=0.0),\n",
       " 'rougeL': Score(precision=0.09411764705882353, recall=0.18181818181818182, fmeasure=0.12403100775193798)}"
      ]
     },
     "execution_count": 58,
     "metadata": {},
     "output_type": "execute_result"
    }
   ],
   "source": [
    "x = url_hashes_train[40]\n",
    "l = open(os.path.join(\"CNN-DM\",\"raw\",\"cnn\",\"stories\",x+\".story\")).readlines()\n",
    "text,summary = clean(l)\n",
    "text_embeddings = model.encode(text)\n",
    "summary_embeddings = model.encode(summary)\n",
    "gen_sum = k_centers_prob(text_embeddings,len(summary_embeddings))\n",
    "gen_summary = [text[x] for x in gen_sum]\n",
    "print(summary)\n",
    "print(\"___\")\n",
    "print(gen_summary)\n",
    "scores = scorer.score(\" \".join(summary),\" \".join(gen_summary))\n",
    "scores"
   ]
  },
  {
   "cell_type": "code",
   "execution_count": null,
   "id": "e06c3b3d",
   "metadata": {},
   "outputs": [],
   "source": []
  },
  {
   "cell_type": "code",
   "execution_count": 59,
   "id": "d9002962",
   "metadata": {},
   "outputs": [
    {
     "name": "stdout",
     "output_type": "stream",
     "text": [
      "10 Done\n",
      "20 Done\n",
      "30 Done\n",
      "40 Done\n",
      "50 Done\n",
      "60 Done\n",
      "70 Done\n",
      "80 Done\n",
      "90 Done\n",
      "CPU times: user 1min 2s, sys: 5.01 s, total: 1min 7s\n",
      "Wall time: 1min 7s\n"
     ]
    }
   ],
   "source": [
    "%%time\n",
    "\n",
    "r1_p = []\n",
    "r1_r = []\n",
    "r1_f = []\n",
    "\n",
    "r2_p = []\n",
    "r2_r = []\n",
    "r2_f = []\n",
    "\n",
    "rl_p = []\n",
    "rl_r = []\n",
    "rl_f = []\n",
    "\n",
    "for i in range(len(url_hashes_test[:100])):\n",
    "    if i>0 and i%10 == 0:\n",
    "        print(i,\"Done\")\n",
    "    x = url_hashes_test[i]\n",
    "    if os.path.exists(os.path.join(\"CNN-DM\",\"raw\",\"cnn\",\"stories\",x+\".story\")):\n",
    "        l = open(os.path.join(\"CNN-DM\",\"raw\",\"cnn\",\"stories\",x+\".story\")).readlines()\n",
    "    else:\n",
    "        l = open(os.path.join(\"CNN-DM\",\"raw\",\"dm\",\"stories\",x+\".story\")).readlines()\n",
    "    text,summary = clean(l)\n",
    "    text_embeddings = model.encode(text)\n",
    "    summary_embeddings = model.encode(summary)\n",
    "    gen_sum = k_centers_prob(text_embeddings,len(summary_embeddings))\n",
    "    gen_summary = [text[x] for x in gen_sum]\n",
    "#     print(summary)\n",
    "#     print(\"___\")\n",
    "#     print(gen_summary)\n",
    "    scores = scorer.score(\" \".join(summary),\" \".join(gen_summary))\n",
    "    r1_p.append(scores['rouge1'].precision)\n",
    "    r1_r.append(scores['rouge1'].recall)\n",
    "    r1_f.append(scores['rouge1'].fmeasure)\n",
    "    \n",
    "    r2_p.append(scores['rouge2'].precision)\n",
    "    r2_r.append(scores['rouge2'].recall)\n",
    "    r2_f.append(scores['rouge2'].fmeasure)\n",
    "    \n",
    "    rl_p.append(scores['rougeL'].precision)\n",
    "    rl_r.append(scores['rougeL'].recall)\n",
    "    rl_f.append(scores['rougeL'].fmeasure)"
   ]
  },
  {
   "cell_type": "code",
   "execution_count": 60,
   "id": "2b7a0264",
   "metadata": {},
   "outputs": [
    {
     "name": "stdout",
     "output_type": "stream",
     "text": [
      "Rouge 1 - Precision :  17.83\n",
      "Rouge 1 - Recall    :  32.81\n",
      "Rouge 1 - F Measure :  22.02\n",
      "---\n",
      "Rouge 2 - Precision :  4.11\n",
      "Rouge 2 - Recall    :  7.51\n",
      "Rouge 2 - F Measure :  5.07\n",
      "---\n",
      "Rouge L - Precision :  11.45\n",
      "Rouge L - Recall    :  20.79\n",
      "Rouge L - F Measure :  14.04\n"
     ]
    }
   ],
   "source": [
    "print(\"Rouge 1 - Precision : \",np.round(np.mean(np.asarray(r1_p))*100,2))\n",
    "print(\"Rouge 1 - Recall    : \",np.round(np.mean(np.asarray(r1_r))*100,2))\n",
    "print(\"Rouge 1 - F Measure : \",np.round(np.mean(np.asarray(r1_f))*100,2))\n",
    "print(\"---\")\n",
    "print(\"Rouge 2 - Precision : \",np.round(np.mean(np.asarray(r2_p))*100,2))\n",
    "print(\"Rouge 2 - Recall    : \",np.round(np.mean(np.asarray(r2_r))*100,2))\n",
    "print(\"Rouge 2 - F Measure : \",np.round(np.mean(np.asarray(r2_f))*100,2))\n",
    "print(\"---\")\n",
    "print(\"Rouge L - Precision : \",np.round(np.mean(np.asarray(rl_p))*100,2))\n",
    "print(\"Rouge L - Recall    : \",np.round(np.mean(np.asarray(rl_r))*100,2))\n",
    "print(\"Rouge L - F Measure : \",np.round(np.mean(np.asarray(rl_f))*100,2))"
   ]
  },
  {
   "cell_type": "code",
   "execution_count": 61,
   "id": "29a54a0b",
   "metadata": {},
   "outputs": [
    {
     "data": {
      "text/plain": [
       "2.0107500000000003"
      ]
     },
     "execution_count": 61,
     "metadata": {},
     "output_type": "execute_result"
    }
   ],
   "source": [
    "len(url_hashes_test)/100*63/3600"
   ]
  },
  {
   "cell_type": "code",
   "execution_count": 63,
   "id": "578c4da3",
   "metadata": {},
   "outputs": [
    {
     "name": "stdout",
     "output_type": "stream",
     "text": [
      "10 Done\n",
      "20 Done\n",
      "30 Done\n",
      "40 Done\n",
      "50 Done\n",
      "60 Done\n",
      "70 Done\n",
      "80 Done\n",
      "90 Done\n",
      "CPU times: user 415 ms, sys: 21 ms, total: 436 ms\n",
      "Wall time: 460 ms\n"
     ]
    }
   ],
   "source": [
    "%%time\n",
    "\n",
    "r1_p = []\n",
    "r1_r = []\n",
    "r1_f = []\n",
    "\n",
    "r2_p = []\n",
    "r2_r = []\n",
    "r2_f = []\n",
    "\n",
    "rl_p = []\n",
    "rl_r = []\n",
    "rl_f = []\n",
    "\n",
    "for i in range(len(url_hashes_test[:100])):\n",
    "    if i>0 and i%10 == 0:\n",
    "        print(i,\"Done\")\n",
    "    x = url_hashes_test[i]\n",
    "    if os.path.exists(os.path.join(\"CNN-DM\",\"raw\",\"cnn\",\"stories\",x+\".story\")):\n",
    "        l = open(os.path.join(\"CNN-DM\",\"raw\",\"cnn\",\"stories\",x+\".story\")).readlines()\n",
    "    else:\n",
    "        l = open(os.path.join(\"CNN-DM\",\"raw\",\"dm\",\"stories\",x+\".story\")).readlines()\n",
    "    text,summary = clean(l)\n",
    "#     text_embeddings = model.encode(text)\n",
    "#     summary_embeddings = model.encode(summary)\n",
    "#     gen_sum = k_centers_prob(text_embeddings,len(summary_embeddings))\n",
    "    gen_summary = text[:len(summary)]\n",
    "#     print(summary)\n",
    "#     print(\"___\")\n",
    "#     print(gen_summary)\n",
    "    scores = scorer.score(\" \".join(summary),\" \".join(gen_summary))\n",
    "    r1_p.append(scores['rouge1'].precision)\n",
    "    r1_r.append(scores['rouge1'].recall)\n",
    "    r1_f.append(scores['rouge1'].fmeasure)\n",
    "    \n",
    "    r2_p.append(scores['rouge2'].precision)\n",
    "    r2_r.append(scores['rouge2'].recall)\n",
    "    r2_f.append(scores['rouge2'].fmeasure)\n",
    "    \n",
    "    rl_p.append(scores['rougeL'].precision)\n",
    "    rl_r.append(scores['rougeL'].recall)\n",
    "    rl_f.append(scores['rougeL'].fmeasure)"
   ]
  },
  {
   "cell_type": "code",
   "execution_count": 64,
   "id": "c3b5b029",
   "metadata": {},
   "outputs": [
    {
     "name": "stdout",
     "output_type": "stream",
     "text": [
      "Rouge 1 - Precision :  23.59\n",
      "Rouge 1 - Recall    :  50.92\n",
      "Rouge 1 - F Measure :  31.55\n",
      "---\n",
      "Rouge 2 - Precision :  9.64\n",
      "Rouge 2 - Recall    :  21.15\n",
      "Rouge 2 - F Measure :  12.97\n",
      "---\n",
      "Rouge L - Precision :  16.37\n",
      "Rouge L - Recall    :  35.19\n",
      "Rouge L - F Measure :  21.85\n"
     ]
    }
   ],
   "source": [
    "print(\"Rouge 1 - Precision : \",np.round(np.mean(np.asarray(r1_p))*100,2))\n",
    "print(\"Rouge 1 - Recall    : \",np.round(np.mean(np.asarray(r1_r))*100,2))\n",
    "print(\"Rouge 1 - F Measure : \",np.round(np.mean(np.asarray(r1_f))*100,2))\n",
    "print(\"---\")\n",
    "print(\"Rouge 2 - Precision : \",np.round(np.mean(np.asarray(r2_p))*100,2))\n",
    "print(\"Rouge 2 - Recall    : \",np.round(np.mean(np.asarray(r2_r))*100,2))\n",
    "print(\"Rouge 2 - F Measure : \",np.round(np.mean(np.asarray(r2_f))*100,2))\n",
    "print(\"---\")\n",
    "print(\"Rouge L - Precision : \",np.round(np.mean(np.asarray(rl_p))*100,2))\n",
    "print(\"Rouge L - Recall    : \",np.round(np.mean(np.asarray(rl_r))*100,2))\n",
    "print(\"Rouge L - F Measure : \",np.round(np.mean(np.asarray(rl_f))*100,2))"
   ]
  },
  {
   "cell_type": "code",
   "execution_count": null,
   "id": "df066815",
   "metadata": {},
   "outputs": [],
   "source": []
  },
  {
   "cell_type": "code",
   "execution_count": null,
   "id": "925713ed",
   "metadata": {},
   "outputs": [],
   "source": []
  },
  {
   "cell_type": "code",
   "execution_count": null,
   "id": "580409d6",
   "metadata": {},
   "outputs": [],
   "source": []
  },
  {
   "cell_type": "code",
   "execution_count": null,
   "id": "0a93782d",
   "metadata": {},
   "outputs": [],
   "source": []
  },
  {
   "cell_type": "code",
   "execution_count": null,
   "id": "5e676f6a",
   "metadata": {},
   "outputs": [],
   "source": []
  },
  {
   "cell_type": "markdown",
   "id": "9f56ad7b",
   "metadata": {},
   "source": [
    "class CustomDataGen(tf.keras.utils.Sequence):\n",
    "    \n",
    "    def __init__(self, url_file, raw_path,\n",
    "                 batch_size,\n",
    "                 input_size=(384),\n",
    "                 shuffle=True):\n",
    "        \n",
    "        url_list = read_text_file(url_file)\n",
    "        url_hashes = get_url_hashes(url_list)\n",
    "        \n",
    "        self.files = []\n",
    "        \n",
    "        for filename in url_hashes:\n",
    "            cnnpath = os.path.join(raw_path,\"cnn\",\"stories\",filename + \".story\")\n",
    "            dmpath = os.path.join(raw_path,\"dm\",\"stories\",filename + \".story\")\n",
    "            if os.path.exists(cnnpath):\n",
    "                self.files.append(cnnpath)\n",
    "            elif os.path.exists(dmpath):\n",
    "                self.files.append(dmpath)\n",
    "        \n",
    "        self.batch_size = batch_size\n",
    "        self.input_size = input_size\n",
    "        self.shuffle = shuffle\n",
    "        \n",
    "        self.n = len(self.files)\n",
    "    \n",
    "    def on_epoch_end(self):\n",
    "        pass\n",
    "    \n",
    "    def __get_data(self, batches):\n",
    "        # Generates data containing batch_size samples\n",
    "\n",
    "        path_batch = batches[self.X_col['path']]\n",
    "        bbox_batch = batches[self.X_col['bbox']]\n",
    "\n",
    "        name_batch = batches[self.y_col['name']]\n",
    "        type_batch = batches[self.y_col['type']]\n",
    "\n",
    "        X_batch = np.asarray([self.__get_input(x, y, self.input_size) for x, y in zip(path_batch, bbox_batch)])\n",
    "\n",
    "        y0_batch = np.asarray([self.__get_output(y, self.n_name) for y in name_batch])\n",
    "        y1_batch = np.asarray([self.__get_output(y, self.n_type) for y in type_batch])\n",
    "\n",
    "        return X_batch, tuple([y0_batch, y1_batch])\n",
    "\n",
    "    def __getitem__(self, index):\n",
    "\n",
    "        batches = self.files[index * self.batch_size:min((index + 1) * self.batch_size,self.n-1)]\n",
    "        X, y = self.__get_data(batches)        \n",
    "        return X, y\n",
    "    \n",
    "    def __len__(self):\n",
    "        return self.n // self.batch_size"
   ]
  },
  {
   "cell_type": "code",
   "execution_count": null,
   "id": "36c55ef9",
   "metadata": {},
   "outputs": [],
   "source": []
  },
  {
   "cell_type": "code",
   "execution_count": null,
   "id": "72fac40d",
   "metadata": {},
   "outputs": [],
   "source": [
    "# max_len = 384\n",
    "configuration = BertConfig()"
   ]
  },
  {
   "cell_type": "code",
   "execution_count": null,
   "id": "a4b56951",
   "metadata": {},
   "outputs": [],
   "source": [
    "slow_tokenizer = BertTokenizer.from_pretrained(\"bert-base-uncased\")\n",
    "save_path = \"bert_base_uncased/\"\n",
    "if not os.path.exists(save_path):\n",
    "    os.makedirs(save_path)\n",
    "slow_tokenizer.save_pretrained(save_path)\n",
    "\n",
    "# Load the fast tokenizer from saved file\n",
    "tokenizer = BertWordPieceTokenizer(\"bert_base_uncased/vocab.txt\", lowercase=True)"
   ]
  },
  {
   "cell_type": "code",
   "execution_count": null,
   "id": "7ba0e19e",
   "metadata": {},
   "outputs": [],
   "source": []
  },
  {
   "cell_type": "code",
   "execution_count": null,
   "id": "8ce3ce84",
   "metadata": {},
   "outputs": [],
   "source": [
    "module_url = 'https://tfhub.dev/tensorflow/bert_en_uncased_L-12_H-768_A-12/2'\n",
    "bert_layer = hub.KerasLayer(module_url, trainable=False)"
   ]
  },
  {
   "cell_type": "code",
   "execution_count": null,
   "id": "f586013a",
   "metadata": {},
   "outputs": [],
   "source": [
    "vocab_file = bert_layer.resolved_object.vocab_file.asset_path.numpy()\n",
    "do_lower_case = bert_layer.resolved_object.do_lower_case.numpy()\n",
    "# tokenizer = tokenization.FullTokenizer(vocab_file, do_lower_case)\n",
    "tokenizer2 = BertTokenizer(vocab_file)\n",
    "# tokenized_sequence = tokenizer2.encode(sequence)\n",
    "\n",
    "def bert_encode(texts, tokenizer, max_len=512):\n",
    "    all_tokens = []\n",
    "    all_masks = []\n",
    "    all_segments = []\n",
    "    \n",
    "    for text in texts:        \n",
    "        tokens = tokenizer2.encode(text)\n",
    "        tokens += [0] * (max_len - len(tokens))\n",
    "        all_tokens.append(tokens)\n",
    "    return np.array(all_tokens)"
   ]
  },
  {
   "cell_type": "code",
   "execution_count": null,
   "id": "64b4f491",
   "metadata": {},
   "outputs": [],
   "source": [
    "text,summ = clean(l)\n",
    "code = bert_encode(text,tokenizer,max_len=256)"
   ]
  },
  {
   "cell_type": "code",
   "execution_count": null,
   "id": "92c66485",
   "metadata": {},
   "outputs": [],
   "source": [
    "tokenizer.decode([2019])\n",
    "ans = []\n",
    "for i in range(len(code[0])):\n",
    "    x = code[0][i]\n",
    "    if x != 0:\n",
    "        ans.append(str(x))\n",
    "#         print(i,x,tokenizer.decode([x]))\n",
    "print(\"--\")\n",
    "print(len(l[0].split()))\n",
    "print(len(l[0]))\n",
    "print(len(code[0]))\n",
    "print(len(\"\".join(ans)))"
   ]
  },
  {
   "cell_type": "code",
   "execution_count": null,
   "id": "e5961b37",
   "metadata": {},
   "outputs": [],
   "source": [
    "code[0]"
   ]
  },
  {
   "cell_type": "code",
   "execution_count": null,
   "id": "355c80d5",
   "metadata": {},
   "outputs": [],
   "source": [
    "import bert\n",
    "\n",
    "model_dir = \"uncased_L-12_H-768_A-12\"\n",
    "\n",
    "bert_params = bert.params_from_pretrained_ckpt(model_dir)\n",
    "l_bert = bert.BertModelLayer.from_params(bert_params, name=\"bert\")"
   ]
  },
  {
   "cell_type": "code",
   "execution_count": null,
   "id": "8e2da49d",
   "metadata": {},
   "outputs": [],
   "source": [
    "from tensorflow import keras\n",
    "\n",
    "max_seq_len = 128\n",
    "l_input_ids      = keras.layers.Input(shape=(max_seq_len,), dtype='int32')\n",
    "l_token_type_ids = keras.layers.Input(shape=(max_seq_len,), dtype='int32')\n",
    "\n",
    "# using the default token_type/segment id 0\n",
    "output = l_bert(l_input_ids)                              # output: [batch_size, max_seq_len, hidden_size]\n",
    "model = keras.Model(inputs=l_input_ids, outputs=output)\n",
    "model.build(input_shape=(None, max_seq_len))"
   ]
  },
  {
   "cell_type": "code",
   "execution_count": null,
   "id": "040c02c9",
   "metadata": {},
   "outputs": [],
   "source": [
    "bert_ckpt_file   = os.path.join(model_dir, \"bert_model.ckpt\")\n",
    "bert.load_stock_weights(l_bert, bert_ckpt_file)"
   ]
  },
  {
   "cell_type": "code",
   "execution_count": null,
   "id": "c1a2978b",
   "metadata": {},
   "outputs": [],
   "source": [
    "model.p"
   ]
  },
  {
   "cell_type": "code",
   "execution_count": null,
   "id": "751ce030",
   "metadata": {},
   "outputs": [],
   "source": []
  }
 ],
 "metadata": {
  "kernelspec": {
   "display_name": "Python 3 (ipykernel)",
   "language": "python",
   "name": "python3"
  },
  "language_info": {
   "codemirror_mode": {
    "name": "ipython",
    "version": 3
   },
   "file_extension": ".py",
   "mimetype": "text/x-python",
   "name": "python",
   "nbconvert_exporter": "python",
   "pygments_lexer": "ipython3",
   "version": "3.8.12"
  }
 },
 "nbformat": 4,
 "nbformat_minor": 5
}
